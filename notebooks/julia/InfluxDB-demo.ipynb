{
 "cells": [
  {
   "cell_type": "code",
   "execution_count": 1,
   "id": "4de966bd-729a-435f-b834-fa9e04c1c6df",
   "metadata": {},
   "outputs": [],
   "source": [
    "using HTTP\n",
    "using CairoMakie\n",
    "using CSV, DataFrames"
   ]
  },
  {
   "cell_type": "code",
   "execution_count": 10,
   "id": "3c1d6b5e-48db-41b5-a5a5-74dabe8ddcb9",
   "metadata": {},
   "outputs": [
    {
     "data": {
      "text/plain": [
       "\"4G3KpbuEGzN1zbo6V8UyF5Lk8MJ2BkUp69NiojUDyvVYtE-b9ACe_zb-1C4zkYYFB3431Tno7WMt3PAa4HVpMw==\""
      ]
     },
     "execution_count": 10,
     "metadata": {},
     "output_type": "execute_result"
    }
   ],
   "source": [
    "org = \"MINTS\"\n",
    "token = \"4G3KpbuEGzN1zbo6V8UyF5Lk8MJ2BkUp69NiojUDyvVYtE-b9ACe_zb-1C4zkYYFB3431Tno7WMt3PAa4HVpMw==\""
   ]
  },
  {
   "cell_type": "code",
   "execution_count": 12,
   "id": "ff0d6a9a-86f3-411c-9617-8cc0ef08d8c5",
   "metadata": {},
   "outputs": [
    {
     "data": {
      "text/plain": [
       "\"http://mdash.circ.utdallas.edu:8086/api/v2/query?org=MINTS\""
      ]
     },
     "execution_count": 12,
     "metadata": {},
     "output_type": "execute_result"
    }
   ],
   "source": [
    "url = \"http://mdash.circ.utdallas.edu:8086/api/v2/query?org=$(org)\""
   ]
  },
  {
   "cell_type": "code",
   "execution_count": 13,
   "id": "26464fb8-411f-48c9-a7c4-d3201ab52c51",
   "metadata": {},
   "outputs": [
    {
     "data": {
      "text/plain": [
       "\"from(bucket: \\\"SharedAirDFW\\\") |> range(start: -15m) |> filter(fn: (r) => r[\\\"device_name\\\"] == \\\"Central Hub 4\\\") |> filter(fn: (r) => r[\\\"_measurement\\\"] == \\\"IPS7100\\\") |> filter(fn: (r) => r[\\\"_field\\\"] == \\\"pm2_5\\\") |> aggregateWindow(every: 1m, fn: mean, createEmpty: false) |> yield(name: \\\"mean\\\")\""
      ]
     },
     "execution_count": 13,
     "metadata": {},
     "output_type": "execute_result"
    }
   ],
   "source": [
    "query = \"from(bucket: \\\"SharedAirDFW\\\") |> range(start: -15m) |> filter(fn: (r) => r[\\\"device_name\\\"] == \\\"Central Hub 4\\\") |> filter(fn: (r) => r[\\\"_measurement\\\"] == \\\"IPS7100\\\") |> filter(fn: (r) => r[\\\"_field\\\"] == \\\"pm2_5\\\") |> aggregateWindow(every: 1m, fn: mean, createEmpty: false) |> yield(name: \\\"mean\\\")\""
   ]
  },
  {
   "cell_type": "code",
   "execution_count": 14,
   "id": "870303c8-ac4e-42d5-a6d3-90fd97beedf0",
   "metadata": {},
   "outputs": [
    {
     "data": {
      "text/plain": [
       "Dict{String, String} with 3 entries:\n",
       "  \"Content-type\"  => \"application/vnd.flux\"\n",
       "  \"Accept\"        => \"application/csv\"\n",
       "  \"Authorization\" => \"Token 4G3KpbuEGzN1zbo6V8UyF5Lk8MJ2BkUp69NiojUDyvVYtE-b9AC…"
      ]
     },
     "execution_count": 14,
     "metadata": {},
     "output_type": "execute_result"
    }
   ],
   "source": [
    "headers = Dict(\n",
    "    \"Accept\" => \"application/csv\",\n",
    "    \"Content-type\" => \"application/vnd.flux\",\n",
    "    \"Authorization\" => \"Token $(token)\"\n",
    ")"
   ]
  },
  {
   "cell_type": "code",
   "execution_count": 34,
   "id": "1de25202-afc1-4f43-b347-54c4e2656321",
   "metadata": {},
   "outputs": [
    {
     "data": {
      "text/plain": [
       "HTTP.Messages.Response:\n",
       "\"\"\"\n",
       "HTTP/1.1 200 OK\r\n",
       "Content-Encoding: gzip\r\n",
       "Content-Type: text/csv; charset=utf-8\r\n",
       "Vary: Accept-Encoding\r\n",
       "X-Influxdb-Build: OSS\r\n",
       "X-Influxdb-Version: v2.4.0\r\n",
       "Date: Mon, 24 Jun 2024 23:12:27 GMT\r\n",
       "Transfer-Encoding: chunked\r\n",
       "\r\n",
       ",result,table,_start,_stop,_time,_value,_field,_measurement,device_id,device_name\r\n",
       ",mean,0,2024-06-24T22:57:27.061606581Z,2024-06-24T23:12:27.061606581Z,2024-06-24T22:58:00Z,3.8467132615151516,pm2_5,IPS7100,001e06373996,Central Hub 4\r\n",
       ",mean,0,2024-06-24T22:57:27.061606581Z,2024-06-24T23:12:27.061606581Z,2024-06-24T22:59:00Z,3.0271057138333335,pm2_5,IPS7100,001e06373996,Central Hub 4\r\n",
       ",mean,0,2024-06-24T22:57:27.061606581Z,2024-06-24T23:12:27.061606581Z,2024-06-24T23:00:00Z,3.1785050713559326,pm2_5,IPS7100,001e06373996,Central Hub 4\r\n",
       ",mean,0,2024-06-24T22:57:27.061606581Z,2024-06-24T23:12:27.061606581Z,2024-06-24T23:01:00Z,4.918229833166666,pm2_5,IPS7100,001e06373996,Central Hub 4\r\n",
       ",mean,0,2024-06-24T22:57:27.061606581Z,2024-06-24T23:12:27.061606581Z,2024-06-24T23:02:00Z,3.8260782543333334,pm2_5,IPS7100,001e06373996,Central Hub 4\r\n",
       ",mean,0,2024-06-24T22:57:27.061606581Z,2024-06-24T23:12:27.061606581Z,2024-06-24T23:03:00Z,4.6543896138333345,pm2_5,IPS7100,001e06373996,Central Hub 4\r\n",
       ",mean,\n",
       "⋮\n",
       "2520-byte body\n",
       "\"\"\""
      ]
     },
     "execution_count": 34,
     "metadata": {},
     "output_type": "execute_result"
    }
   ],
   "source": [
    "resp = HTTP.post(url, headers=headers, body=query)"
   ]
  },
  {
   "cell_type": "code",
   "execution_count": 35,
   "id": "4fcfa82c-19c0-412b-ac1c-1dd1e815832a",
   "metadata": {},
   "outputs": [
    {
     "data": {
      "text/plain": [
       "\",result,table,_start,_stop,_time,_value,_field,_measurement,device_id,device_name\\r\\n,mean,0,2024-06-24T22:57:27.061606581Z,2024-06-24T23:12:27.061606581Z,2024-06-24T22:58:00Z,3.8467132615151516,pm2_5,IPS7100,001e06373996,Central Hub 4\\r\\n,mean,0,2024-06-24T22:57:27.0616065\"\u001b[93m\u001b[1m ⋯ 1980 bytes ⋯ \u001b[22m\u001b[39m\"06-24T23:12:27.061606581Z,2024-06-24T23:12:00Z,3.820114076499999,pm2_5,IPS7100,001e06373996,Central Hub 4\\r\\n,mean,0,2024-06-24T22:57:27.061606581Z,2024-06-24T23:12:27.061606581Z,2024-06-24T23:12:27.061606581Z,2.597783508888889,pm2_5,IPS7100,001e06373996,Central Hub 4\\r\\n\\r\\n\""
      ]
     },
     "execution_count": 35,
     "metadata": {},
     "output_type": "execute_result"
    }
   ],
   "source": [
    "String(resp.body)"
   ]
  },
  {
   "cell_type": "code",
   "execution_count": 32,
   "id": "ef787aea-788c-4f9e-bff7-76fdf20e3adb",
   "metadata": {},
   "outputs": [
    {
     "data": {
      "text/html": [
       "<div><div style = \"float: left;\"><span>16×11 DataFrame</span></div><div style = \"clear: both;\"></div></div><div class = \"data-frame\" style = \"overflow-x: scroll;\"><table class = \"data-frame\" style = \"margin-bottom: 6px;\"><thead><tr class = \"header\"><th class = \"rowNumber\" style = \"font-weight: bold; text-align: right;\">Row</th><th style = \"text-align: left;\">Column1</th><th style = \"text-align: left;\">result</th><th style = \"text-align: left;\">table</th><th style = \"text-align: left;\">_start</th><th style = \"text-align: left;\">_stop</th><th style = \"text-align: left;\">_time</th><th style = \"text-align: left;\">_value</th><th style = \"text-align: left;\">_field</th><th style = \"text-align: left;\">_measurement</th><th style = \"text-align: left;\">device_id</th><th style = \"text-align: left;\">device_name</th></tr><tr class = \"subheader headerLastRow\"><th class = \"rowNumber\" style = \"font-weight: bold; text-align: right;\"></th><th title = \"Missing\" style = \"text-align: left;\">Missing</th><th title = \"String7\" style = \"text-align: left;\">String7</th><th title = \"Int64\" style = \"text-align: left;\">Int64</th><th title = \"String31\" style = \"text-align: left;\">String31</th><th title = \"String31\" style = \"text-align: left;\">String31</th><th title = \"String31\" style = \"text-align: left;\">String31</th><th title = \"Float64\" style = \"text-align: left;\">Float64</th><th title = \"String7\" style = \"text-align: left;\">String7</th><th title = \"String7\" style = \"text-align: left;\">String7</th><th title = \"Float64\" style = \"text-align: left;\">Float64</th><th title = \"String15\" style = \"text-align: left;\">String15</th></tr></thead><tbody><tr><td class = \"rowNumber\" style = \"font-weight: bold; text-align: right;\">1</td><td style = \"font-style: italic; text-align: right;\">missing</td><td style = \"text-align: left;\">mean</td><td style = \"text-align: right;\">0</td><td style = \"text-align: left;\">2024-06-24T22:56:01.369981943Z</td><td style = \"text-align: left;\">2024-06-24T23:11:01.369981943Z</td><td style = \"text-align: left;\">2024-06-24T22:57:00Z</td><td style = \"text-align: right;\">4.09238</td><td style = \"text-align: left;\">pm2_5</td><td style = \"text-align: left;\">IPS7100</td><td style = \"text-align: right;\">Inf</td><td style = \"text-align: left;\">Central Hub 4</td></tr><tr><td class = \"rowNumber\" style = \"font-weight: bold; text-align: right;\">2</td><td style = \"font-style: italic; text-align: right;\">missing</td><td style = \"text-align: left;\">mean</td><td style = \"text-align: right;\">0</td><td style = \"text-align: left;\">2024-06-24T22:56:01.369981943Z</td><td style = \"text-align: left;\">2024-06-24T23:11:01.369981943Z</td><td style = \"text-align: left;\">2024-06-24T22:58:00Z</td><td style = \"text-align: right;\">3.66128</td><td style = \"text-align: left;\">pm2_5</td><td style = \"text-align: left;\">IPS7100</td><td style = \"text-align: right;\">Inf</td><td style = \"text-align: left;\">Central Hub 4</td></tr><tr><td class = \"rowNumber\" style = \"font-weight: bold; text-align: right;\">3</td><td style = \"font-style: italic; text-align: right;\">missing</td><td style = \"text-align: left;\">mean</td><td style = \"text-align: right;\">0</td><td style = \"text-align: left;\">2024-06-24T22:56:01.369981943Z</td><td style = \"text-align: left;\">2024-06-24T23:11:01.369981943Z</td><td style = \"text-align: left;\">2024-06-24T22:59:00Z</td><td style = \"text-align: right;\">3.02711</td><td style = \"text-align: left;\">pm2_5</td><td style = \"text-align: left;\">IPS7100</td><td style = \"text-align: right;\">Inf</td><td style = \"text-align: left;\">Central Hub 4</td></tr><tr><td class = \"rowNumber\" style = \"font-weight: bold; text-align: right;\">4</td><td style = \"font-style: italic; text-align: right;\">missing</td><td style = \"text-align: left;\">mean</td><td style = \"text-align: right;\">0</td><td style = \"text-align: left;\">2024-06-24T22:56:01.369981943Z</td><td style = \"text-align: left;\">2024-06-24T23:11:01.369981943Z</td><td style = \"text-align: left;\">2024-06-24T23:00:00Z</td><td style = \"text-align: right;\">3.17851</td><td style = \"text-align: left;\">pm2_5</td><td style = \"text-align: left;\">IPS7100</td><td style = \"text-align: right;\">Inf</td><td style = \"text-align: left;\">Central Hub 4</td></tr><tr><td class = \"rowNumber\" style = \"font-weight: bold; text-align: right;\">5</td><td style = \"font-style: italic; text-align: right;\">missing</td><td style = \"text-align: left;\">mean</td><td style = \"text-align: right;\">0</td><td style = \"text-align: left;\">2024-06-24T22:56:01.369981943Z</td><td style = \"text-align: left;\">2024-06-24T23:11:01.369981943Z</td><td style = \"text-align: left;\">2024-06-24T23:01:00Z</td><td style = \"text-align: right;\">4.91823</td><td style = \"text-align: left;\">pm2_5</td><td style = \"text-align: left;\">IPS7100</td><td style = \"text-align: right;\">Inf</td><td style = \"text-align: left;\">Central Hub 4</td></tr><tr><td class = \"rowNumber\" style = \"font-weight: bold; text-align: right;\">6</td><td style = \"font-style: italic; text-align: right;\">missing</td><td style = \"text-align: left;\">mean</td><td style = \"text-align: right;\">0</td><td style = \"text-align: left;\">2024-06-24T22:56:01.369981943Z</td><td style = \"text-align: left;\">2024-06-24T23:11:01.369981943Z</td><td style = \"text-align: left;\">2024-06-24T23:02:00Z</td><td style = \"text-align: right;\">3.82608</td><td style = \"text-align: left;\">pm2_5</td><td style = \"text-align: left;\">IPS7100</td><td style = \"text-align: right;\">Inf</td><td style = \"text-align: left;\">Central Hub 4</td></tr><tr><td class = \"rowNumber\" style = \"font-weight: bold; text-align: right;\">7</td><td style = \"font-style: italic; text-align: right;\">missing</td><td style = \"text-align: left;\">mean</td><td style = \"text-align: right;\">0</td><td style = \"text-align: left;\">2024-06-24T22:56:01.369981943Z</td><td style = \"text-align: left;\">2024-06-24T23:11:01.369981943Z</td><td style = \"text-align: left;\">2024-06-24T23:03:00Z</td><td style = \"text-align: right;\">4.65439</td><td style = \"text-align: left;\">pm2_5</td><td style = \"text-align: left;\">IPS7100</td><td style = \"text-align: right;\">Inf</td><td style = \"text-align: left;\">Central Hub 4</td></tr><tr><td class = \"rowNumber\" style = \"font-weight: bold; text-align: right;\">8</td><td style = \"font-style: italic; text-align: right;\">missing</td><td style = \"text-align: left;\">mean</td><td style = \"text-align: right;\">0</td><td style = \"text-align: left;\">2024-06-24T22:56:01.369981943Z</td><td style = \"text-align: left;\">2024-06-24T23:11:01.369981943Z</td><td style = \"text-align: left;\">2024-06-24T23:04:00Z</td><td style = \"text-align: right;\">2.95063</td><td style = \"text-align: left;\">pm2_5</td><td style = \"text-align: left;\">IPS7100</td><td style = \"text-align: right;\">Inf</td><td style = \"text-align: left;\">Central Hub 4</td></tr><tr><td class = \"rowNumber\" style = \"font-weight: bold; text-align: right;\">9</td><td style = \"font-style: italic; text-align: right;\">missing</td><td style = \"text-align: left;\">mean</td><td style = \"text-align: right;\">0</td><td style = \"text-align: left;\">2024-06-24T22:56:01.369981943Z</td><td style = \"text-align: left;\">2024-06-24T23:11:01.369981943Z</td><td style = \"text-align: left;\">2024-06-24T23:05:00Z</td><td style = \"text-align: right;\">3.0796</td><td style = \"text-align: left;\">pm2_5</td><td style = \"text-align: left;\">IPS7100</td><td style = \"text-align: right;\">Inf</td><td style = \"text-align: left;\">Central Hub 4</td></tr><tr><td class = \"rowNumber\" style = \"font-weight: bold; text-align: right;\">10</td><td style = \"font-style: italic; text-align: right;\">missing</td><td style = \"text-align: left;\">mean</td><td style = \"text-align: right;\">0</td><td style = \"text-align: left;\">2024-06-24T22:56:01.369981943Z</td><td style = \"text-align: left;\">2024-06-24T23:11:01.369981943Z</td><td style = \"text-align: left;\">2024-06-24T23:06:00Z</td><td style = \"text-align: right;\">2.62778</td><td style = \"text-align: left;\">pm2_5</td><td style = \"text-align: left;\">IPS7100</td><td style = \"text-align: right;\">Inf</td><td style = \"text-align: left;\">Central Hub 4</td></tr><tr><td class = \"rowNumber\" style = \"font-weight: bold; text-align: right;\">11</td><td style = \"font-style: italic; text-align: right;\">missing</td><td style = \"text-align: left;\">mean</td><td style = \"text-align: right;\">0</td><td style = \"text-align: left;\">2024-06-24T22:56:01.369981943Z</td><td style = \"text-align: left;\">2024-06-24T23:11:01.369981943Z</td><td style = \"text-align: left;\">2024-06-24T23:07:00Z</td><td style = \"text-align: right;\">4.13939</td><td style = \"text-align: left;\">pm2_5</td><td style = \"text-align: left;\">IPS7100</td><td style = \"text-align: right;\">Inf</td><td style = \"text-align: left;\">Central Hub 4</td></tr><tr><td class = \"rowNumber\" style = \"font-weight: bold; text-align: right;\">12</td><td style = \"font-style: italic; text-align: right;\">missing</td><td style = \"text-align: left;\">mean</td><td style = \"text-align: right;\">0</td><td style = \"text-align: left;\">2024-06-24T22:56:01.369981943Z</td><td style = \"text-align: left;\">2024-06-24T23:11:01.369981943Z</td><td style = \"text-align: left;\">2024-06-24T23:08:00Z</td><td style = \"text-align: right;\">3.94275</td><td style = \"text-align: left;\">pm2_5</td><td style = \"text-align: left;\">IPS7100</td><td style = \"text-align: right;\">Inf</td><td style = \"text-align: left;\">Central Hub 4</td></tr><tr><td class = \"rowNumber\" style = \"font-weight: bold; text-align: right;\">13</td><td style = \"font-style: italic; text-align: right;\">missing</td><td style = \"text-align: left;\">mean</td><td style = \"text-align: right;\">0</td><td style = \"text-align: left;\">2024-06-24T22:56:01.369981943Z</td><td style = \"text-align: left;\">2024-06-24T23:11:01.369981943Z</td><td style = \"text-align: left;\">2024-06-24T23:09:00Z</td><td style = \"text-align: right;\">8.52901</td><td style = \"text-align: left;\">pm2_5</td><td style = \"text-align: left;\">IPS7100</td><td style = \"text-align: right;\">Inf</td><td style = \"text-align: left;\">Central Hub 4</td></tr><tr><td class = \"rowNumber\" style = \"font-weight: bold; text-align: right;\">14</td><td style = \"font-style: italic; text-align: right;\">missing</td><td style = \"text-align: left;\">mean</td><td style = \"text-align: right;\">0</td><td style = \"text-align: left;\">2024-06-24T22:56:01.369981943Z</td><td style = \"text-align: left;\">2024-06-24T23:11:01.369981943Z</td><td style = \"text-align: left;\">2024-06-24T23:10:00Z</td><td style = \"text-align: right;\">3.92733</td><td style = \"text-align: left;\">pm2_5</td><td style = \"text-align: left;\">IPS7100</td><td style = \"text-align: right;\">Inf</td><td style = \"text-align: left;\">Central Hub 4</td></tr><tr><td class = \"rowNumber\" style = \"font-weight: bold; text-align: right;\">15</td><td style = \"font-style: italic; text-align: right;\">missing</td><td style = \"text-align: left;\">mean</td><td style = \"text-align: right;\">0</td><td style = \"text-align: left;\">2024-06-24T22:56:01.369981943Z</td><td style = \"text-align: left;\">2024-06-24T23:11:01.369981943Z</td><td style = \"text-align: left;\">2024-06-24T23:11:00Z</td><td style = \"text-align: right;\">4.18701</td><td style = \"text-align: left;\">pm2_5</td><td style = \"text-align: left;\">IPS7100</td><td style = \"text-align: right;\">Inf</td><td style = \"text-align: left;\">Central Hub 4</td></tr><tr><td class = \"rowNumber\" style = \"font-weight: bold; text-align: right;\">16</td><td style = \"font-style: italic; text-align: right;\">missing</td><td style = \"text-align: left;\">mean</td><td style = \"text-align: right;\">0</td><td style = \"text-align: left;\">2024-06-24T22:56:01.369981943Z</td><td style = \"text-align: left;\">2024-06-24T23:11:01.369981943Z</td><td style = \"text-align: left;\">2024-06-24T23:11:01.369981943Z</td><td style = \"text-align: right;\">4.621</td><td style = \"text-align: left;\">pm2_5</td><td style = \"text-align: left;\">IPS7100</td><td style = \"text-align: right;\">Inf</td><td style = \"text-align: left;\">Central Hub 4</td></tr></tbody></table></div>"
      ],
      "text/latex": [
       "\\begin{tabular}{r|cccccc}\n",
       "\t& Column1 & result & table & \\_start & \\_stop & \\\\\n",
       "\t\\hline\n",
       "\t& Missing & String7 & Int64 & String31 & String31 & \\\\\n",
       "\t\\hline\n",
       "\t1 & \\emph{missing} & mean & 0 & 2024-06-24T22:56:01.369981943Z & 2024-06-24T23:11:01.369981943Z & $\\dots$ \\\\\n",
       "\t2 & \\emph{missing} & mean & 0 & 2024-06-24T22:56:01.369981943Z & 2024-06-24T23:11:01.369981943Z & $\\dots$ \\\\\n",
       "\t3 & \\emph{missing} & mean & 0 & 2024-06-24T22:56:01.369981943Z & 2024-06-24T23:11:01.369981943Z & $\\dots$ \\\\\n",
       "\t4 & \\emph{missing} & mean & 0 & 2024-06-24T22:56:01.369981943Z & 2024-06-24T23:11:01.369981943Z & $\\dots$ \\\\\n",
       "\t5 & \\emph{missing} & mean & 0 & 2024-06-24T22:56:01.369981943Z & 2024-06-24T23:11:01.369981943Z & $\\dots$ \\\\\n",
       "\t6 & \\emph{missing} & mean & 0 & 2024-06-24T22:56:01.369981943Z & 2024-06-24T23:11:01.369981943Z & $\\dots$ \\\\\n",
       "\t7 & \\emph{missing} & mean & 0 & 2024-06-24T22:56:01.369981943Z & 2024-06-24T23:11:01.369981943Z & $\\dots$ \\\\\n",
       "\t8 & \\emph{missing} & mean & 0 & 2024-06-24T22:56:01.369981943Z & 2024-06-24T23:11:01.369981943Z & $\\dots$ \\\\\n",
       "\t9 & \\emph{missing} & mean & 0 & 2024-06-24T22:56:01.369981943Z & 2024-06-24T23:11:01.369981943Z & $\\dots$ \\\\\n",
       "\t10 & \\emph{missing} & mean & 0 & 2024-06-24T22:56:01.369981943Z & 2024-06-24T23:11:01.369981943Z & $\\dots$ \\\\\n",
       "\t11 & \\emph{missing} & mean & 0 & 2024-06-24T22:56:01.369981943Z & 2024-06-24T23:11:01.369981943Z & $\\dots$ \\\\\n",
       "\t12 & \\emph{missing} & mean & 0 & 2024-06-24T22:56:01.369981943Z & 2024-06-24T23:11:01.369981943Z & $\\dots$ \\\\\n",
       "\t13 & \\emph{missing} & mean & 0 & 2024-06-24T22:56:01.369981943Z & 2024-06-24T23:11:01.369981943Z & $\\dots$ \\\\\n",
       "\t14 & \\emph{missing} & mean & 0 & 2024-06-24T22:56:01.369981943Z & 2024-06-24T23:11:01.369981943Z & $\\dots$ \\\\\n",
       "\t15 & \\emph{missing} & mean & 0 & 2024-06-24T22:56:01.369981943Z & 2024-06-24T23:11:01.369981943Z & $\\dots$ \\\\\n",
       "\t16 & \\emph{missing} & mean & 0 & 2024-06-24T22:56:01.369981943Z & 2024-06-24T23:11:01.369981943Z & $\\dots$ \\\\\n",
       "\\end{tabular}\n"
      ],
      "text/plain": [
       "\u001b[1m16×11 DataFrame\u001b[0m\n",
       "\u001b[1m Row \u001b[0m│\u001b[1m Column1 \u001b[0m\u001b[1m result  \u001b[0m\u001b[1m table \u001b[0m\u001b[1m _start                         \u001b[0m\u001b[1m _stop         \u001b[0m ⋯\n",
       "     │\u001b[90m Missing \u001b[0m\u001b[90m String7 \u001b[0m\u001b[90m Int64 \u001b[0m\u001b[90m String31                       \u001b[0m\u001b[90m String31      \u001b[0m ⋯\n",
       "─────┼──────────────────────────────────────────────────────────────────────────\n",
       "   1 │\u001b[90m missing \u001b[0m mean         0  2024-06-24T22:56:01.369981943Z  2024-06-24T23: ⋯\n",
       "   2 │\u001b[90m missing \u001b[0m mean         0  2024-06-24T22:56:01.369981943Z  2024-06-24T23:\n",
       "   3 │\u001b[90m missing \u001b[0m mean         0  2024-06-24T22:56:01.369981943Z  2024-06-24T23:\n",
       "   4 │\u001b[90m missing \u001b[0m mean         0  2024-06-24T22:56:01.369981943Z  2024-06-24T23:\n",
       "   5 │\u001b[90m missing \u001b[0m mean         0  2024-06-24T22:56:01.369981943Z  2024-06-24T23: ⋯\n",
       "   6 │\u001b[90m missing \u001b[0m mean         0  2024-06-24T22:56:01.369981943Z  2024-06-24T23:\n",
       "   7 │\u001b[90m missing \u001b[0m mean         0  2024-06-24T22:56:01.369981943Z  2024-06-24T23:\n",
       "   8 │\u001b[90m missing \u001b[0m mean         0  2024-06-24T22:56:01.369981943Z  2024-06-24T23:\n",
       "   9 │\u001b[90m missing \u001b[0m mean         0  2024-06-24T22:56:01.369981943Z  2024-06-24T23: ⋯\n",
       "  10 │\u001b[90m missing \u001b[0m mean         0  2024-06-24T22:56:01.369981943Z  2024-06-24T23:\n",
       "  11 │\u001b[90m missing \u001b[0m mean         0  2024-06-24T22:56:01.369981943Z  2024-06-24T23:\n",
       "  12 │\u001b[90m missing \u001b[0m mean         0  2024-06-24T22:56:01.369981943Z  2024-06-24T23:\n",
       "  13 │\u001b[90m missing \u001b[0m mean         0  2024-06-24T22:56:01.369981943Z  2024-06-24T23: ⋯\n",
       "  14 │\u001b[90m missing \u001b[0m mean         0  2024-06-24T22:56:01.369981943Z  2024-06-24T23:\n",
       "  15 │\u001b[90m missing \u001b[0m mean         0  2024-06-24T22:56:01.369981943Z  2024-06-24T23:\n",
       "  16 │\u001b[90m missing \u001b[0m mean         0  2024-06-24T22:56:01.369981943Z  2024-06-24T23:\n",
       "\u001b[36m                                                               7 columns omitted\u001b[0m"
      ]
     },
     "execution_count": 32,
     "metadata": {},
     "output_type": "execute_result"
    }
   ],
   "source": [
    "df = CSV.read(IOBuffer(String(resp.body)), DataFrame)"
   ]
  },
  {
   "cell_type": "code",
   "execution_count": null,
   "id": "229b4364-526e-4aca-b4e0-ebc6ae639b11",
   "metadata": {},
   "outputs": [],
   "source": []
  }
 ],
 "metadata": {
  "kernelspec": {
   "display_name": "Julia 1.10.4",
   "language": "julia",
   "name": "julia-1.10"
  },
  "language_info": {
   "file_extension": ".jl",
   "mimetype": "application/julia",
   "name": "julia",
   "version": "1.10.4"
  }
 },
 "nbformat": 4,
 "nbformat_minor": 5
}
