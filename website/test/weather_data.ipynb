{
 "cells": [
  {
   "cell_type": "markdown",
   "id": "443da807",
   "metadata": {
    "papermill": {
     "duration": 0.003539,
     "end_time": "2023-06-07T03:24:47.559388",
     "exception": false,
     "start_time": "2023-06-07T03:24:47.555849",
     "status": "completed"
    },
    "tags": []
   },
   "source": [
    "---\n",
    "title: \"Weather Data\"\n",
    "execute:\n",
    "  echo: false\n",
    "  output: false\n",
    "---"
   ]
  },
  {
   "cell_type": "code",
   "execution_count": 1,
   "id": "8879e610",
   "metadata": {
    "execution": {
     "iopub.execute_input": "2023-06-07T03:24:47.565575Z",
     "iopub.status.busy": "2023-06-07T03:24:47.564776Z",
     "iopub.status.idle": "2023-06-07T03:24:47.761769Z",
     "shell.execute_reply": "2023-06-07T03:24:47.761375Z"
    },
    "papermill": {
     "duration": 0.20157,
     "end_time": "2023-06-07T03:24:47.763266",
     "exception": false,
     "start_time": "2023-06-07T03:24:47.561696",
     "status": "completed"
    },
    "tags": []
   },
   "outputs": [],
   "source": [
    "import pandas as pd"
   ]
  },
  {
   "cell_type": "code",
   "execution_count": 2,
   "id": "cb8f28e7",
   "metadata": {
    "execution": {
     "iopub.execute_input": "2023-06-07T03:24:47.765921Z",
     "iopub.status.busy": "2023-06-07T03:24:47.765724Z",
     "iopub.status.idle": "2023-06-07T03:24:47.768665Z",
     "shell.execute_reply": "2023-06-07T03:24:47.768165Z"
    },
    "papermill": {
     "duration": 0.006674,
     "end_time": "2023-06-07T03:24:47.771019",
     "exception": false,
     "start_time": "2023-06-07T03:24:47.764345",
     "status": "completed"
    },
    "tags": []
   },
   "outputs": [
    {
     "name": "stdout",
     "output_type": "stream",
     "text": [
      "3\n"
     ]
    }
   ],
   "source": [
    "#| echo: true\n",
    "#| output: true\n",
    "a = 1\n",
    "b = 2\n",
    "c = a + b\n",
    "print(c)"
   ]
  },
  {
   "cell_type": "code",
   "execution_count": 3,
   "id": "c5d90035",
   "metadata": {
    "execution": {
     "iopub.execute_input": "2023-06-07T03:24:47.774054Z",
     "iopub.status.busy": "2023-06-07T03:24:47.773775Z",
     "iopub.status.idle": "2023-06-07T03:24:47.776315Z",
     "shell.execute_reply": "2023-06-07T03:24:47.775963Z"
    },
    "papermill": {
     "duration": 0.005497,
     "end_time": "2023-06-07T03:24:47.777606",
     "exception": false,
     "start_time": "2023-06-07T03:24:47.772109",
     "status": "completed"
    },
    "tags": []
   },
   "outputs": [
    {
     "name": "stdout",
     "output_type": "stream",
     "text": [
      "1\n"
     ]
    }
   ],
   "source": [
    "#| output: true\n",
    "d = b - a\n",
    "print(d)"
   ]
  }
 ],
 "metadata": {
  "kernelspec": {
   "display_name": "Python 3.9.16 ('mints-reports')",
   "language": "python",
   "name": "python3"
  },
  "language_info": {
   "codemirror_mode": {
    "name": "ipython",
    "version": 3
   },
   "file_extension": ".py",
   "mimetype": "text/x-python",
   "name": "python",
   "nbconvert_exporter": "python",
   "pygments_lexer": "ipython3",
   "version": "3.9.16"
  },
  "papermill": {
   "default_parameters": {},
   "duration": 1.637263,
   "end_time": "2023-06-07T03:24:47.996445",
   "environment_variables": {},
   "exception": null,
   "input_path": "../notebooks/weather_data.ipynb",
   "output_path": "test/weather_data.ipynb",
   "parameters": {},
   "start_time": "2023-06-07T03:24:46.359182",
   "version": "2.3.4"
  },
  "vscode": {
   "interpreter": {
    "hash": "f4782f8355362e7a56b7e6c33b6c6b04e0a57313441b17c0e868b494aedf576e"
   }
  }
 },
 "nbformat": 4,
 "nbformat_minor": 5
}